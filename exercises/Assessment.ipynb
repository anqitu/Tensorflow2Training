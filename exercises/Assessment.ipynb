{
  "nbformat": 4,
  "nbformat_minor": 0,
  "metadata": {
    "colab": {
      "name": "Assessment.ipynb",
      "provenance": [],
      "collapsed_sections": []
    },
    "kernelspec": {
      "name": "python3",
      "display_name": "Python 3"
    }
  },
  "cells": [
    {
      "cell_type": "code",
      "metadata": {
        "id": "v6EGhaMxdEC_",
        "colab_type": "code",
        "colab": {}
      },
      "source": [
        "import tensorflow as tf\n",
        "from tensorflow import keras"
      ],
      "execution_count": 0,
      "outputs": []
    },
    {
      "cell_type": "code",
      "metadata": {
        "id": "2h0GCkJ2c3Dq",
        "colab_type": "code",
        "colab": {}
      },
      "source": [
        "import pandas as pd\n",
        "dataset_path = \"https://raw.githubusercontent.com/plotly/datasets/master/diabetes.csv\"\n",
        "dataset = pd.read_csv(dataset_path)\n",
        "\n",
        "x_train = dataset.sample(frac=0.7,random_state=0)\n",
        "x_test = dataset.drop(x_train.index)\n",
        "\n",
        "y_train = x_train.pop('Outcome')\n",
        "y_test = x_test.pop('Outcome')"
      ],
      "execution_count": 0,
      "outputs": []
    },
    {
      "cell_type": "code",
      "metadata": {
        "id": "2MuphJPKsivC",
        "colab_type": "code",
        "colab": {}
      },
      "source": [
        "x_train.head()"
      ],
      "execution_count": 0,
      "outputs": []
    },
    {
      "cell_type": "code",
      "metadata": {
        "id": "8HxEzSX5ssyj",
        "colab_type": "code",
        "outputId": "08833140-dcf8-40b6-a207-4fc5976cfd7e",
        "colab": {
          "base_uri": "https://localhost:8080/",
          "height": 69
        }
      },
      "source": [
        "y_train.value_counts() # Binary classification"
      ],
      "execution_count": 0,
      "outputs": [
        {
          "output_type": "execute_result",
          "data": {
            "text/plain": [
              "0    347\n",
              "1    191\n",
              "Name: Outcome, dtype: int64"
            ]
          },
          "metadata": {
            "tags": []
          },
          "execution_count": 4
        }
      ]
    },
    {
      "cell_type": "code",
      "metadata": {
        "id": "rdP-FCizg3_F",
        "colab_type": "code",
        "colab": {}
      },
      "source": [
        "from sklearn.preprocessing import MinMaxScaler\n",
        "sc = MinMaxScaler()\n",
        "x_train[x_train.columns] = sc.fit_transform(x_train)\n",
        "x_test[x_train.columns] = sc.transform(x_test)"
      ],
      "execution_count": 0,
      "outputs": []
    },
    {
      "cell_type": "code",
      "metadata": {
        "id": "g81bZ1ugdp53",
        "colab_type": "code",
        "colab": {}
      },
      "source": [
        "from tensorflow.keras.models import Sequential\n",
        "from tensorflow.keras.layers import Dense"
      ],
      "execution_count": 0,
      "outputs": []
    },
    {
      "cell_type": "code",
      "metadata": {
        "id": "68M-_d63d7Qw",
        "colab_type": "code",
        "colab": {}
      },
      "source": [
        "model = Sequential()\n",
        "model.add(Dense(256,activation='relu', input_shape=[x_train.shape[1]])) # first hidden layer\n",
        "model.add(Dense(128,activation='relu'))\n",
        "model.add(Dense(64,activation='relu'))\n",
        "model.add(Dense(1,activation='sigmoid'))"
      ],
      "execution_count": 0,
      "outputs": []
    },
    {
      "cell_type": "code",
      "metadata": {
        "id": "GlGplsP4ejny",
        "colab_type": "code",
        "colab": {}
      },
      "source": [
        "model.compile(loss='binary_crossentropy',\n",
        "              optimizer='adam',\n",
        "              metrics=['accuracy'])"
      ],
      "execution_count": 0,
      "outputs": []
    },
    {
      "cell_type": "code",
      "metadata": {
        "id": "89N7ANFOep20",
        "colab_type": "code",
        "outputId": "f9089083-b26a-4a4a-f00a-48843f5586cc",
        "colab": {
          "base_uri": "https://localhost:8080/",
          "height": 800
        }
      },
      "source": [
        "from tensorflow.keras.callbacks import EarlyStopping\n",
        "earlystopping = EarlyStopping(monitor = 'val_loss', patience = 5, restore_best_weights = True)\n",
        "history = model.fit(x_train, y_train, \n",
        "                    epochs = 100, \n",
        "                    validation_data = (x_test, y_test),\n",
        "                    callbacks = [earlystopping])"
      ],
      "execution_count": 0,
      "outputs": [
        {
          "output_type": "stream",
          "text": [
            "Epoch 1/100\n",
            "17/17 [==============================] - 0s 9ms/step - loss: 0.6698 - accuracy: 0.6171 - val_loss: 0.6643 - val_accuracy: 0.6652\n",
            "Epoch 2/100\n",
            "17/17 [==============================] - 0s 5ms/step - loss: 0.6279 - accuracy: 0.6506 - val_loss: 0.6353 - val_accuracy: 0.6565\n",
            "Epoch 3/100\n",
            "17/17 [==============================] - 0s 5ms/step - loss: 0.5931 - accuracy: 0.6877 - val_loss: 0.6107 - val_accuracy: 0.6696\n",
            "Epoch 4/100\n",
            "17/17 [==============================] - 0s 5ms/step - loss: 0.5491 - accuracy: 0.7249 - val_loss: 0.6055 - val_accuracy: 0.6696\n",
            "Epoch 5/100\n",
            "17/17 [==============================] - 0s 5ms/step - loss: 0.5194 - accuracy: 0.7454 - val_loss: 0.6383 - val_accuracy: 0.6957\n",
            "Epoch 6/100\n",
            "17/17 [==============================] - 0s 6ms/step - loss: 0.5037 - accuracy: 0.7342 - val_loss: 0.5566 - val_accuracy: 0.7261\n",
            "Epoch 7/100\n",
            "17/17 [==============================] - 0s 5ms/step - loss: 0.4781 - accuracy: 0.7788 - val_loss: 0.6036 - val_accuracy: 0.6870\n",
            "Epoch 8/100\n",
            "17/17 [==============================] - 0s 5ms/step - loss: 0.4826 - accuracy: 0.7807 - val_loss: 0.5333 - val_accuracy: 0.7348\n",
            "Epoch 9/100\n",
            "17/17 [==============================] - 0s 5ms/step - loss: 0.4553 - accuracy: 0.7993 - val_loss: 0.5224 - val_accuracy: 0.7522\n",
            "Epoch 10/100\n",
            "17/17 [==============================] - 0s 5ms/step - loss: 0.4463 - accuracy: 0.7918 - val_loss: 0.5286 - val_accuracy: 0.7435\n",
            "Epoch 11/100\n",
            "17/17 [==============================] - 0s 5ms/step - loss: 0.4355 - accuracy: 0.8048 - val_loss: 0.5071 - val_accuracy: 0.7522\n",
            "Epoch 12/100\n",
            "17/17 [==============================] - 0s 5ms/step - loss: 0.4418 - accuracy: 0.7807 - val_loss: 0.5069 - val_accuracy: 0.7478\n",
            "Epoch 13/100\n",
            "17/17 [==============================] - 0s 5ms/step - loss: 0.4418 - accuracy: 0.7788 - val_loss: 0.7155 - val_accuracy: 0.7043\n",
            "Epoch 14/100\n",
            "17/17 [==============================] - 0s 5ms/step - loss: 0.4405 - accuracy: 0.7993 - val_loss: 0.5240 - val_accuracy: 0.7435\n",
            "Epoch 15/100\n",
            "17/17 [==============================] - 0s 5ms/step - loss: 0.4191 - accuracy: 0.8086 - val_loss: 0.5026 - val_accuracy: 0.7609\n",
            "Epoch 16/100\n",
            "17/17 [==============================] - 0s 5ms/step - loss: 0.4192 - accuracy: 0.8048 - val_loss: 0.5405 - val_accuracy: 0.7435\n",
            "Epoch 17/100\n",
            "17/17 [==============================] - 0s 5ms/step - loss: 0.4096 - accuracy: 0.7993 - val_loss: 0.4918 - val_accuracy: 0.7435\n",
            "Epoch 18/100\n",
            "17/17 [==============================] - 0s 5ms/step - loss: 0.4055 - accuracy: 0.8160 - val_loss: 0.5011 - val_accuracy: 0.7348\n",
            "Epoch 19/100\n",
            "17/17 [==============================] - 0s 5ms/step - loss: 0.4144 - accuracy: 0.8104 - val_loss: 0.5338 - val_accuracy: 0.7435\n",
            "Epoch 20/100\n",
            "17/17 [==============================] - 0s 5ms/step - loss: 0.4042 - accuracy: 0.8141 - val_loss: 0.4982 - val_accuracy: 0.7522\n",
            "Epoch 21/100\n",
            "17/17 [==============================] - 0s 5ms/step - loss: 0.4104 - accuracy: 0.8067 - val_loss: 0.5092 - val_accuracy: 0.7478\n",
            "Epoch 22/100\n",
            "17/17 [==============================] - 0s 5ms/step - loss: 0.3994 - accuracy: 0.8216 - val_loss: 0.4995 - val_accuracy: 0.7478\n"
          ],
          "name": "stdout"
        }
      ]
    },
    {
      "cell_type": "code",
      "metadata": {
        "id": "qbHNOcHSMux0",
        "colab_type": "code",
        "outputId": "6ef91845-fb57-4b3c-aacc-618ff465ff09",
        "colab": {
          "base_uri": "https://localhost:8080/",
          "height": 279
        }
      },
      "source": [
        "import matplotlib.pyplot as plt\n",
        "\n",
        "loss = history.history['loss']\n",
        "val_loss = history.history['val_loss']\n",
        "epoch = range(len(loss))\n",
        "\n",
        "plt.plot(epoch, loss, label='train')\n",
        "plt.plot(epoch, val_loss, label='test')\n",
        "plt.xlabel('Epoch')\n",
        "plt.ylabel('Loss')\n",
        "plt.legend()\n",
        "plt.show()"
      ],
      "execution_count": 0,
      "outputs": [
        {
          "output_type": "display_data",
          "data": {
            "image/png": "[encoded data removed]",
            "text/plain": [
              "<Figure size 432x288 with 1 Axes>"
            ]
          },
          "metadata": {
            "tags": [],
            "needs_background": "light"
          }
        }
      ]
    },
    {
      "cell_type": "code",
      "metadata": {
        "id": "55ssBPQwjpra",
        "colab_type": "code",
        "outputId": "c0a239ac-3867-4df6-cb9f-73a5e361ac4f",
        "colab": {
          "base_uri": "https://localhost:8080/",
          "height": 52
        }
      },
      "source": [
        "model.evaluate(x_test, y_test)"
      ],
      "execution_count": 0,
      "outputs": [
        {
          "output_type": "stream",
          "text": [
            "8/8 [==============================] - 0s 1ms/step - loss: 0.4995 - accuracy: 0.7478\n"
          ],
          "name": "stdout"
        },
        {
          "output_type": "execute_result",
          "data": {
            "text/plain": [
              "[0.49953165650367737, 0.747826099395752]"
            ]
          },
          "metadata": {
            "tags": []
          },
          "execution_count": 25
        }
      ]
    },
    {
      "cell_type": "code",
      "metadata": {
        "id": "zlG4VNHxfPxJ",
        "colab_type": "code",
        "colab": {}
      },
      "source": [
        "probs = model.predict(x_test)"
      ],
      "execution_count": 0,
      "outputs": []
    },
    {
      "cell_type": "code",
      "metadata": {
        "id": "MEOYlZ1Cf5IW",
        "colab_type": "code",
        "outputId": "3c2b6389-b040-48a9-fdd7-efcf1454be63",
        "colab": {
          "base_uri": "https://localhost:8080/",
          "height": 191
        }
      },
      "source": [
        "probs[:10]"
      ],
      "execution_count": 0,
      "outputs": [
        {
          "output_type": "execute_result",
          "data": {
            "text/plain": [
              "array([[0.02016744],\n",
              "       [0.9121201 ],\n",
              "       [0.27885473],\n",
              "       [0.13126534],\n",
              "       [0.47067162],\n",
              "       [0.31511098],\n",
              "       [0.21492887],\n",
              "       [0.02483016],\n",
              "       [0.02487123],\n",
              "       [0.731071  ]], dtype=float32)"
            ]
          },
          "metadata": {
            "tags": []
          },
          "execution_count": 15
        }
      ]
    },
    {
      "cell_type": "code",
      "metadata": {
        "id": "DBCKLvL2HPtG",
        "colab_type": "code",
        "outputId": "c1199bc4-0c4c-4070-ff9a-41b30c2b4e19",
        "colab": {
          "base_uri": "https://localhost:8080/",
          "height": 208
        }
      },
      "source": [
        "probs.round().flatten().astype(int)"
      ],
      "execution_count": 0,
      "outputs": [
        {
          "output_type": "execute_result",
          "data": {
            "text/plain": [
              "array([0, 1, 0, 0, 0, 0, 0, 0, 0, 1, 1, 0, 1, 1, 0, 1, 0, 1, 1, 1, 0, 1,\n",
              "       0, 0, 0, 1, 0, 0, 1, 0, 0, 1, 0, 0, 0, 1, 1, 0, 0, 0, 0, 0, 0, 1,\n",
              "       1, 0, 0, 0, 0, 0, 0, 0, 0, 1, 0, 0, 0, 0, 0, 0, 0, 1, 0, 1, 0, 0,\n",
              "       1, 0, 1, 1, 1, 0, 0, 0, 1, 1, 0, 0, 0, 1, 1, 0, 0, 1, 1, 1, 0, 0,\n",
              "       0, 0, 1, 1, 0, 0, 0, 0, 1, 0, 0, 0, 0, 1, 0, 1, 0, 0, 0, 1, 0, 0,\n",
              "       0, 1, 0, 1, 0, 0, 0, 0, 0, 0, 0, 1, 0, 1, 0, 0, 0, 0, 0, 0, 0, 0,\n",
              "       0, 0, 0, 0, 1, 0, 0, 0, 0, 0, 1, 1, 0, 0, 0, 0, 0, 0, 1, 0, 0, 0,\n",
              "       1, 0, 0, 0, 0, 0, 0, 0, 0, 0, 0, 0, 0, 0, 0, 0, 0, 0, 0, 0, 1, 1,\n",
              "       1, 0, 0, 1, 0, 0, 1, 1, 0, 0, 0, 0, 0, 0, 0, 1, 1, 0, 0, 0, 1, 0,\n",
              "       1, 0, 0, 1, 1, 1, 0, 0, 1, 0, 0, 0, 0, 1, 0, 0, 0, 0, 0, 0, 0, 0,\n",
              "       0, 0, 0, 0, 0, 1, 1, 1, 1, 0])"
            ]
          },
          "metadata": {
            "tags": []
          },
          "execution_count": 19
        }
      ]
    },
    {
      "cell_type": "code",
      "metadata": {
        "id": "eZBdrESJPlWe",
        "colab_type": "code",
        "colab": {}
      },
      "source": [
        ""
      ],
      "execution_count": 0,
      "outputs": []
    }
  ]
}