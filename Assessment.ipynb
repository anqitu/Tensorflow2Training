{
  "nbformat": 4,
  "nbformat_minor": 0,
  "metadata": {
    "colab": {
      "name": "Assessment.ipynb",
      "provenance": [],
      "collapsed_sections": []
    },
    "kernelspec": {
      "name": "python3",
      "display_name": "Python 3"
    }
  },
  "cells": [
    {
      "cell_type": "code",
      "metadata": {
        "id": "0dsa0L85c6rK",
        "colab_type": "code",
        "colab": {}
      },
      "source": [
        "!pip install tensorflow-gpu==2.0.0 --upgrade"
      ],
      "execution_count": 0,
      "outputs": []
    },
    {
      "cell_type": "code",
      "metadata": {
        "id": "v6EGhaMxdEC_",
        "colab_type": "code",
        "colab": {}
      },
      "source": [
        "import tensorflow as tf\n",
        "from tensorflow import keras"
      ],
      "execution_count": 0,
      "outputs": []
    },
    {
      "cell_type": "code",
      "metadata": {
        "id": "2h0GCkJ2c3Dq",
        "colab_type": "code",
        "colab": {}
      },
      "source": [
        "import pandas as pd\n",
        "dataset_path = \"https://raw.githubusercontent.com/plotly/datasets/master/diabetes.csv\"\n",
        "dataset = pd.read_csv(dataset_path)\n",
        "\n",
        "x_train = dataset.sample(frac=0.7,random_state=0)\n",
        "x_test = dataset.drop(x_train.index)\n",
        "\n",
        "y_train = x_train.pop('Outcome')\n",
        "y_test = x_test.pop('Outcome')"
      ],
      "execution_count": 0,
      "outputs": []
    },
    {
      "cell_type": "code",
      "metadata": {
        "id": "2MuphJPKsivC",
        "colab_type": "code",
        "outputId": "e444a297-f14c-4a0b-db2b-c05d5b8c6482",
        "colab": {
          "base_uri": "https://localhost:8080/",
          "height": 204
        }
      },
      "source": [
        "x_train.head()"
      ],
      "execution_count": 3,
      "outputs": [
        {
          "output_type": "execute_result",
          "data": {
            "text/html": [
              "<div>\n",
              "<style scoped>\n",
              "    .dataframe tbody tr th:only-of-type {\n",
              "        vertical-align: middle;\n",
              "    }\n",
              "\n",
              "    .dataframe tbody tr th {\n",
              "        vertical-align: top;\n",
              "    }\n",
              "\n",
              "    .dataframe thead th {\n",
              "        text-align: right;\n",
              "    }\n",
              "</style>\n",
              "<table border=\"1\" class=\"dataframe\">\n",
              "  <thead>\n",
              "    <tr style=\"text-align: right;\">\n",
              "      <th></th>\n",
              "      <th>Pregnancies</th>\n",
              "      <th>Glucose</th>\n",
              "      <th>BloodPressure</th>\n",
              "      <th>SkinThickness</th>\n",
              "      <th>Insulin</th>\n",
              "      <th>BMI</th>\n",
              "      <th>DiabetesPedigreeFunction</th>\n",
              "      <th>Age</th>\n",
              "    </tr>\n",
              "  </thead>\n",
              "  <tbody>\n",
              "    <tr>\n",
              "      <th>661</th>\n",
              "      <td>1</td>\n",
              "      <td>199</td>\n",
              "      <td>76</td>\n",
              "      <td>43</td>\n",
              "      <td>0</td>\n",
              "      <td>42.9</td>\n",
              "      <td>1.394</td>\n",
              "      <td>22</td>\n",
              "    </tr>\n",
              "    <tr>\n",
              "      <th>122</th>\n",
              "      <td>2</td>\n",
              "      <td>107</td>\n",
              "      <td>74</td>\n",
              "      <td>30</td>\n",
              "      <td>100</td>\n",
              "      <td>33.6</td>\n",
              "      <td>0.404</td>\n",
              "      <td>23</td>\n",
              "    </tr>\n",
              "    <tr>\n",
              "      <th>113</th>\n",
              "      <td>4</td>\n",
              "      <td>76</td>\n",
              "      <td>62</td>\n",
              "      <td>0</td>\n",
              "      <td>0</td>\n",
              "      <td>34.0</td>\n",
              "      <td>0.391</td>\n",
              "      <td>25</td>\n",
              "    </tr>\n",
              "    <tr>\n",
              "      <th>14</th>\n",
              "      <td>5</td>\n",
              "      <td>166</td>\n",
              "      <td>72</td>\n",
              "      <td>19</td>\n",
              "      <td>175</td>\n",
              "      <td>25.8</td>\n",
              "      <td>0.587</td>\n",
              "      <td>51</td>\n",
              "    </tr>\n",
              "    <tr>\n",
              "      <th>529</th>\n",
              "      <td>0</td>\n",
              "      <td>111</td>\n",
              "      <td>65</td>\n",
              "      <td>0</td>\n",
              "      <td>0</td>\n",
              "      <td>24.6</td>\n",
              "      <td>0.660</td>\n",
              "      <td>31</td>\n",
              "    </tr>\n",
              "  </tbody>\n",
              "</table>\n",
              "</div>"
            ],
            "text/plain": [
              "     Pregnancies  Glucose  BloodPressure  ...   BMI  DiabetesPedigreeFunction  Age\n",
              "661            1      199             76  ...  42.9                     1.394   22\n",
              "122            2      107             74  ...  33.6                     0.404   23\n",
              "113            4       76             62  ...  34.0                     0.391   25\n",
              "14             5      166             72  ...  25.8                     0.587   51\n",
              "529            0      111             65  ...  24.6                     0.660   31\n",
              "\n",
              "[5 rows x 8 columns]"
            ]
          },
          "metadata": {
            "tags": []
          },
          "execution_count": 3
        }
      ]
    },
    {
      "cell_type": "code",
      "metadata": {
        "id": "8HxEzSX5ssyj",
        "colab_type": "code",
        "outputId": "192d3e94-13fe-4143-e5ad-d3ea01dcbd3e",
        "colab": {
          "base_uri": "https://localhost:8080/",
          "height": 68
        }
      },
      "source": [
        "y_train.value_counts()"
      ],
      "execution_count": 4,
      "outputs": [
        {
          "output_type": "execute_result",
          "data": {
            "text/plain": [
              "0    347\n",
              "1    191\n",
              "Name: Outcome, dtype: int64"
            ]
          },
          "metadata": {
            "tags": []
          },
          "execution_count": 4
        }
      ]
    },
    {
      "cell_type": "code",
      "metadata": {
        "id": "rdP-FCizg3_F",
        "colab_type": "code",
        "colab": {}
      },
      "source": [
        "from sklearn.preprocessing import MinMaxScaler\n",
        "sc = MinMaxScaler()\n",
        "x_train[x_train.columns] = sc.fit_transform(x_train)\n",
        "x_test[x_train.columns] = sc.transform(x_test)"
      ],
      "execution_count": 0,
      "outputs": []
    },
    {
      "cell_type": "code",
      "metadata": {
        "id": "g81bZ1ugdp53",
        "colab_type": "code",
        "colab": {}
      },
      "source": [
        "from tensorflow.keras.models import Sequential\n",
        "from tensorflow.keras.layers import Dense, Dropout\n",
        "from tensorflow.keras.regularizers import l2"
      ],
      "execution_count": 0,
      "outputs": []
    },
    {
      "cell_type": "code",
      "metadata": {
        "id": "68M-_d63d7Qw",
        "colab_type": "code",
        "colab": {}
      },
      "source": [
        "model = Sequential()\n",
        "model.add(Dense(256,activation='relu', input_shape=[8])) # first hidden layer\n",
        "model.add(Dense(128,activation='relu', kernel_regularizer=l2(l=0.001)))\n",
        "model.add(Dense(64,activation='relu', kernel_regularizer=l2(l=0.001)))\n",
        "model.add(Dense(1,activation='sigmoid'))"
      ],
      "execution_count": 0,
      "outputs": []
    },
    {
      "cell_type": "code",
      "metadata": {
        "id": "GlGplsP4ejny",
        "colab_type": "code",
        "colab": {}
      },
      "source": [
        "model.compile(loss='binary_crossentropy',optimizer='adam',metrics=['accuracy'])"
      ],
      "execution_count": 0,
      "outputs": []
    },
    {
      "cell_type": "code",
      "metadata": {
        "id": "89N7ANFOep20",
        "colab_type": "code",
        "colab": {
          "base_uri": "https://localhost:8080/",
          "height": 1000
        },
        "outputId": "da3c051e-373a-4da9-c5f2-55d3f3009291"
      },
      "source": [
        "from tensorflow.keras.callbacks import EarlyStopping\n",
        "\n",
        "earlystopping = EarlyStopping(monitor = 'val_loss', patience = 5, verbose = 0)\n",
        "\n",
        "history = model.fit(x_train, y_train, \n",
        "                    epochs = 100, \n",
        "                    validation_split=0.3,\n",
        "                    # verbose = 0,\n",
        "                    callbacks = [earlystopping])"
      ],
      "execution_count": 9,
      "outputs": [
        {
          "output_type": "stream",
          "text": [
            "WARNING:tensorflow:Falling back from v2 loop because of error: Failed to find data adapter that can handle input: <class 'pandas.core.frame.DataFrame'>, <class 'NoneType'>\n",
            "Train on 376 samples, validate on 162 samples\n",
            "Epoch 1/100\n",
            "376/376 [==============================] - 0s 583us/sample - loss: 0.9025 - accuracy: 0.6543 - val_loss: 0.8833 - val_accuracy: 0.6111\n",
            "Epoch 2/100\n",
            "376/376 [==============================] - 0s 126us/sample - loss: 0.8293 - accuracy: 0.6596 - val_loss: 0.8181 - val_accuracy: 0.6173\n",
            "Epoch 3/100\n",
            "376/376 [==============================] - 0s 134us/sample - loss: 0.7736 - accuracy: 0.6702 - val_loss: 0.7624 - val_accuracy: 0.6543\n",
            "Epoch 4/100\n",
            "376/376 [==============================] - 0s 136us/sample - loss: 0.7248 - accuracy: 0.6941 - val_loss: 0.7150 - val_accuracy: 0.6728\n",
            "Epoch 5/100\n",
            "376/376 [==============================] - 0s 113us/sample - loss: 0.6736 - accuracy: 0.7181 - val_loss: 0.6817 - val_accuracy: 0.6852\n",
            "Epoch 6/100\n",
            "376/376 [==============================] - 0s 108us/sample - loss: 0.6423 - accuracy: 0.7314 - val_loss: 0.6375 - val_accuracy: 0.7284\n",
            "Epoch 7/100\n",
            "376/376 [==============================] - 0s 108us/sample - loss: 0.6221 - accuracy: 0.7181 - val_loss: 0.6251 - val_accuracy: 0.7531\n",
            "Epoch 8/100\n",
            "376/376 [==============================] - 0s 138us/sample - loss: 0.5969 - accuracy: 0.7367 - val_loss: 0.5940 - val_accuracy: 0.7469\n",
            "Epoch 9/100\n",
            "376/376 [==============================] - 0s 121us/sample - loss: 0.5812 - accuracy: 0.7234 - val_loss: 0.5890 - val_accuracy: 0.7654\n",
            "Epoch 10/100\n",
            "376/376 [==============================] - 0s 112us/sample - loss: 0.5551 - accuracy: 0.7713 - val_loss: 0.5612 - val_accuracy: 0.7469\n",
            "Epoch 11/100\n",
            "376/376 [==============================] - 0s 111us/sample - loss: 0.5400 - accuracy: 0.7739 - val_loss: 0.5504 - val_accuracy: 0.7716\n",
            "Epoch 12/100\n",
            "376/376 [==============================] - 0s 124us/sample - loss: 0.5355 - accuracy: 0.7713 - val_loss: 0.5416 - val_accuracy: 0.7963\n",
            "Epoch 13/100\n",
            "376/376 [==============================] - 0s 125us/sample - loss: 0.5357 - accuracy: 0.7793 - val_loss: 0.5332 - val_accuracy: 0.7840\n",
            "Epoch 14/100\n",
            "376/376 [==============================] - 0s 126us/sample - loss: 0.5032 - accuracy: 0.7819 - val_loss: 0.5426 - val_accuracy: 0.7593\n",
            "Epoch 15/100\n",
            "376/376 [==============================] - 0s 112us/sample - loss: 0.5098 - accuracy: 0.7872 - val_loss: 0.5242 - val_accuracy: 0.8025\n",
            "Epoch 16/100\n",
            "376/376 [==============================] - 0s 132us/sample - loss: 0.4908 - accuracy: 0.7979 - val_loss: 0.5436 - val_accuracy: 0.8025\n",
            "Epoch 17/100\n",
            "376/376 [==============================] - 0s 135us/sample - loss: 0.4985 - accuracy: 0.7872 - val_loss: 0.5918 - val_accuracy: 0.7593\n",
            "Epoch 18/100\n",
            "376/376 [==============================] - 0s 122us/sample - loss: 0.5411 - accuracy: 0.7633 - val_loss: 0.5259 - val_accuracy: 0.8086\n",
            "Epoch 19/100\n",
            "376/376 [==============================] - 0s 117us/sample - loss: 0.4946 - accuracy: 0.7899 - val_loss: 0.5646 - val_accuracy: 0.7160\n",
            "Epoch 20/100\n",
            "376/376 [==============================] - 0s 103us/sample - loss: 0.5103 - accuracy: 0.7872 - val_loss: 0.5188 - val_accuracy: 0.7840\n",
            "Epoch 21/100\n",
            "376/376 [==============================] - 0s 120us/sample - loss: 0.4777 - accuracy: 0.7952 - val_loss: 0.5197 - val_accuracy: 0.7840\n",
            "Epoch 22/100\n",
            "376/376 [==============================] - 0s 118us/sample - loss: 0.4714 - accuracy: 0.8005 - val_loss: 0.5129 - val_accuracy: 0.7963\n",
            "Epoch 23/100\n",
            "376/376 [==============================] - 0s 108us/sample - loss: 0.4944 - accuracy: 0.7952 - val_loss: 0.5298 - val_accuracy: 0.8210\n",
            "Epoch 24/100\n",
            "376/376 [==============================] - 0s 120us/sample - loss: 0.4595 - accuracy: 0.8165 - val_loss: 0.5104 - val_accuracy: 0.8025\n",
            "Epoch 25/100\n",
            "376/376 [==============================] - 0s 114us/sample - loss: 0.4580 - accuracy: 0.8005 - val_loss: 0.5130 - val_accuracy: 0.7901\n",
            "Epoch 26/100\n",
            "376/376 [==============================] - 0s 105us/sample - loss: 0.4562 - accuracy: 0.8005 - val_loss: 0.5133 - val_accuracy: 0.8210\n",
            "Epoch 27/100\n",
            "376/376 [==============================] - 0s 114us/sample - loss: 0.4529 - accuracy: 0.8165 - val_loss: 0.5153 - val_accuracy: 0.7963\n",
            "Epoch 28/100\n",
            "376/376 [==============================] - 0s 114us/sample - loss: 0.4523 - accuracy: 0.8059 - val_loss: 0.5163 - val_accuracy: 0.8148\n",
            "Epoch 29/100\n",
            "376/376 [==============================] - 0s 101us/sample - loss: 0.4469 - accuracy: 0.8165 - val_loss: 0.5177 - val_accuracy: 0.7778\n"
          ],
          "name": "stdout"
        }
      ]
    },
    {
      "cell_type": "code",
      "metadata": {
        "id": "qbHNOcHSMux0",
        "colab_type": "code",
        "colab": {
          "base_uri": "https://localhost:8080/",
          "height": 279
        },
        "outputId": "0340cfd4-e3c8-47e6-8f93-1925cb00d9da"
      },
      "source": [
        "import matplotlib.pyplot as plt\n",
        "\n",
        "loss = history.history['loss']\n",
        "val_loss = history.history['val_loss']\n",
        "epoch = range(len(loss))\n",
        "\n",
        "plt.plot(epoch, loss, label='train')\n",
        "plt.plot(epoch, val_loss, label='test')\n",
        "plt.xlabel('Epoch')\n",
        "plt.ylabel('Loss')\n",
        "plt.legend()\n",
        "plt.show()"
      ],
      "execution_count": 10,
      "outputs": [
        {
          "output_type": "display_data",
          "data": {
            "image/png": "[encoded data removed]",
            "text/plain": [
              "<Figure size 432x288 with 1 Axes>"
            ]
          },
          "metadata": {
            "tags": []
          }
        }
      ]
    },
    {
      "cell_type": "code",
      "metadata": {
        "id": "Tw7otdB7MvYn",
        "colab_type": "code",
        "colab": {
          "base_uri": "https://localhost:8080/",
          "height": 279
        },
        "outputId": "b46d2ed3-1c97-4433-f17e-8ad86a1b40bd"
      },
      "source": [
        "import matplotlib.pyplot as plt\n",
        "\n",
        "acc = history.history['accuracy']\n",
        "val_acc = history.history['val_accuracy']\n",
        "epoch = range(len(acc))\n",
        "\n",
        "plt.plot(epoch,acc,label='train')\n",
        "plt.plot(epoch,val_acc,label='test')\n",
        "plt.xlabel('Epoch')\n",
        "plt.ylabel('Accuracy')\n",
        "plt.legend()\n",
        "plt.show()"
      ],
      "execution_count": 11,
      "outputs": [
        {
          "output_type": "display_data",
          "data": {
            "image/png": "[encoded data removed]",
            "text/plain": [
              "<Figure size 432x288 with 1 Axes>"
            ]
          },
          "metadata": {
            "tags": []
          }
        }
      ]
    },
    {
      "cell_type": "code",
      "metadata": {
        "id": "55ssBPQwjpra",
        "colab_type": "code",
        "outputId": "6a8b8333-601d-477e-f66f-6332a400ddd9",
        "colab": {
          "base_uri": "https://localhost:8080/",
          "height": 68
        }
      },
      "source": [
        "model.evaluate(x_test, y_test)"
      ],
      "execution_count": 12,
      "outputs": [
        {
          "output_type": "stream",
          "text": [
            "WARNING:tensorflow:Falling back from v2 loop because of error: Failed to find data adapter that can handle input: <class 'pandas.core.frame.DataFrame'>, <class 'NoneType'>\n",
            "230/230 [==============================] - 0s 100us/sample - loss: 0.5835 - accuracy: 0.7304\n"
          ],
          "name": "stdout"
        },
        {
          "output_type": "execute_result",
          "data": {
            "text/plain": [
              "[0.583497020472651, 0.7304348]"
            ]
          },
          "metadata": {
            "tags": []
          },
          "execution_count": 12
        }
      ]
    },
    {
      "cell_type": "code",
      "metadata": {
        "id": "zlG4VNHxfPxJ",
        "colab_type": "code",
        "outputId": "debe3667-d0db-4169-c169-e35174f71ad7",
        "colab": {
          "base_uri": "https://localhost:8080/",
          "height": 34
        }
      },
      "source": [
        "probs = model.predict(x_test)"
      ],
      "execution_count": 13,
      "outputs": [
        {
          "output_type": "stream",
          "text": [
            "WARNING:tensorflow:Falling back from v2 loop because of error: Failed to find data adapter that can handle input: <class 'pandas.core.frame.DataFrame'>, <class 'NoneType'>\n"
          ],
          "name": "stdout"
        }
      ]
    },
    {
      "cell_type": "code",
      "metadata": {
        "id": "MEOYlZ1Cf5IW",
        "colab_type": "code",
        "outputId": "3cddf1ea-73f2-4012-b6a7-5e298769b953",
        "colab": {
          "base_uri": "https://localhost:8080/",
          "height": 187
        }
      },
      "source": [
        "probs[:10]"
      ],
      "execution_count": 14,
      "outputs": [
        {
          "output_type": "execute_result",
          "data": {
            "text/plain": [
              "array([[0.03800765],\n",
              "       [0.9134079 ],\n",
              "       [0.28036374],\n",
              "       [0.25280648],\n",
              "       [0.68834424],\n",
              "       [0.5119146 ],\n",
              "       [0.27934033],\n",
              "       [0.03874558],\n",
              "       [0.04845819],\n",
              "       [0.76041377]], dtype=float32)"
            ]
          },
          "metadata": {
            "tags": []
          },
          "execution_count": 14
        }
      ]
    },
    {
      "cell_type": "code",
      "metadata": {
        "id": "DBCKLvL2HPtG",
        "colab_type": "code",
        "colab": {}
      },
      "source": [
        "# threshold of 0.5\n",
        "preds = probs.flatten().round()"
      ],
      "execution_count": 0,
      "outputs": []
    },
    {
      "cell_type": "code",
      "metadata": {
        "id": "xDdEu1A7f8Ck",
        "colab_type": "code",
        "colab": {
          "base_uri": "https://localhost:8080/",
          "height": 255
        },
        "outputId": "9e13befb-fed0-420a-af97-d544a14d46cb"
      },
      "source": [
        "preds"
      ],
      "execution_count": 21,
      "outputs": [
        {
          "output_type": "execute_result",
          "data": {
            "text/plain": [
              "array([0., 1., 0., 0., 1., 1., 0., 0., 0., 1., 1., 0., 1., 1., 0., 1., 0.,\n",
              "       1., 1., 1., 0., 1., 0., 0., 0., 1., 0., 0., 1., 0., 0., 1., 0., 0.,\n",
              "       1., 1., 0., 0., 0., 0., 0., 0., 0., 1., 1., 0., 0., 0., 0., 0., 0.,\n",
              "       0., 0., 1., 0., 0., 0., 0., 0., 0., 0., 1., 0., 1., 0., 0., 1., 0.,\n",
              "       1., 1., 1., 0., 1., 0., 1., 1., 0., 0., 0., 1., 0., 0., 0., 1., 1.,\n",
              "       1., 0., 0., 0., 0., 1., 1., 0., 0., 0., 0., 1., 0., 0., 0., 0., 1.,\n",
              "       0., 1., 0., 0., 0., 1., 0., 0., 0., 1., 0., 1., 0., 0., 0., 0., 0.,\n",
              "       0., 0., 1., 0., 1., 0., 0., 0., 0., 0., 0., 0., 0., 0., 0., 0., 0.,\n",
              "       1., 0., 0., 0., 0., 0., 0., 1., 0., 0., 0., 0., 0., 0., 1., 0., 0.,\n",
              "       0., 1., 0., 0., 0., 0., 0., 0., 0., 0., 0., 0., 0., 0., 0., 0., 0.,\n",
              "       0., 0., 0., 0., 1., 0., 1., 0., 0., 1., 0., 0., 1., 1., 0., 0., 0.,\n",
              "       0., 0., 0., 0., 1., 0., 0., 0., 0., 0., 0., 1., 0., 0., 1., 1., 1.,\n",
              "       0., 0., 1., 0., 0., 0., 0., 1., 0., 0., 0., 0., 0., 0., 0., 1., 0.,\n",
              "       0., 0., 0., 0., 1., 0., 1., 1., 0.], dtype=float32)"
            ]
          },
          "metadata": {
            "tags": []
          },
          "execution_count": 21
        }
      ]
    },
    {
      "cell_type": "code",
      "metadata": {
        "id": "xie8ssUGv0Y5",
        "colab_type": "code",
        "outputId": "b250530a-2917-4ed0-fc99-a3a3149c0430",
        "colab": {
          "base_uri": "https://localhost:8080/",
          "height": 34
        }
      },
      "source": [
        "from sklearn.metrics import accuracy_score\n",
        "accuracy_score(y_test, preds)"
      ],
      "execution_count": 22,
      "outputs": [
        {
          "output_type": "execute_result",
          "data": {
            "text/plain": [
              "0.7304347826086957"
            ]
          },
          "metadata": {
            "tags": []
          },
          "execution_count": 22
        }
      ]
    },
    {
      "cell_type": "code",
      "metadata": {
        "id": "maxvjl4DwDl3",
        "colab_type": "code",
        "outputId": "b36b9cfb-ef1a-4e80-8e81-312ca09ee921",
        "colab": {
          "base_uri": "https://localhost:8080/",
          "height": 51
        }
      },
      "source": [
        "from sklearn.metrics import confusion_matrix\n",
        "confusion_matrix(y_test, preds)"
      ],
      "execution_count": 23,
      "outputs": [
        {
          "output_type": "execute_result",
          "data": {
            "text/plain": [
              "array([[129,  24],\n",
              "       [ 38,  39]])"
            ]
          },
          "metadata": {
            "tags": []
          },
          "execution_count": 23
        }
      ]
    },
    {
      "cell_type": "markdown",
      "metadata": {
        "id": "Dua2IslXHZRb",
        "colab_type": "text"
      },
      "source": [
        "### Set mean as threshold"
      ]
    },
    {
      "cell_type": "code",
      "metadata": {
        "colab_type": "code",
        "outputId": "869895f0-9f0a-4cac-be69-fbb60ad6b450",
        "id": "AkLf-GmyvKM4",
        "colab": {
          "base_uri": "https://localhost:8080/",
          "height": 34
        }
      },
      "source": [
        "threshold = y_train.mean()\n",
        "threshold"
      ],
      "execution_count": 34,
      "outputs": [
        {
          "output_type": "execute_result",
          "data": {
            "text/plain": [
              "0.3550185873605948"
            ]
          },
          "metadata": {
            "tags": []
          },
          "execution_count": 34
        }
      ]
    },
    {
      "cell_type": "code",
      "metadata": {
        "id": "3Lgo4dm0kuTh",
        "colab_type": "code",
        "outputId": "17220219-d83e-4644-be2a-99ddaac04a81",
        "colab": {
          "base_uri": "https://localhost:8080/",
          "height": 34
        }
      },
      "source": [
        "prob = 0.2\n",
        "pred = 0 if prob < threshold else 1\n",
        "pred"
      ],
      "execution_count": 35,
      "outputs": [
        {
          "output_type": "execute_result",
          "data": {
            "text/plain": [
              "0"
            ]
          },
          "metadata": {
            "tags": []
          },
          "execution_count": 35
        }
      ]
    },
    {
      "cell_type": "code",
      "metadata": {
        "id": "UuagL2LGviD3",
        "colab_type": "code",
        "colab": {}
      },
      "source": [
        "preds = [0 if prob < threshold else 1 for prob in probs]"
      ],
      "execution_count": 0,
      "outputs": []
    },
    {
      "cell_type": "code",
      "metadata": {
        "id": "ffO7gE4HgARD",
        "colab_type": "code",
        "outputId": "ebdcd944-e46a-47dc-ada8-5ec8532b5215",
        "colab": {
          "base_uri": "https://localhost:8080/",
          "height": 34
        }
      },
      "source": [
        "from sklearn.metrics import accuracy_score\n",
        "accuracy_score(y_test, preds)"
      ],
      "execution_count": 37,
      "outputs": [
        {
          "output_type": "execute_result",
          "data": {
            "text/plain": [
              "0.7434782608695653"
            ]
          },
          "metadata": {
            "tags": []
          },
          "execution_count": 37
        }
      ]
    },
    {
      "cell_type": "code",
      "metadata": {
        "id": "tlXye2Z7lQiM",
        "colab_type": "code",
        "outputId": "88150e5a-f29b-496c-ab2a-04c5a6646685",
        "colab": {
          "base_uri": "https://localhost:8080/",
          "height": 51
        }
      },
      "source": [
        "from sklearn.metrics import confusion_matrix\n",
        "confusion_matrix(y_test, preds)"
      ],
      "execution_count": 38,
      "outputs": [
        {
          "output_type": "execute_result",
          "data": {
            "text/plain": [
              "array([[120,  33],\n",
              "       [ 26,  51]])"
            ]
          },
          "metadata": {
            "tags": []
          },
          "execution_count": 38
        }
      ]
    },
    {
      "cell_type": "code",
      "metadata": {
        "id": "bA-2F9BBjy2w",
        "colab_type": "code",
        "colab": {}
      },
      "source": [
        ""
      ],
      "execution_count": 0,
      "outputs": []
    }
  ]
}